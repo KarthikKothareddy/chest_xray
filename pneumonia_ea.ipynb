{
 "cells": [
  {
   "cell_type": "code",
   "execution_count": 16,
   "metadata": {},
   "outputs": [],
   "source": [
    "import os\n",
    "import sys\n",
    "import random\n",
    "import numpy as np\n",
    "import pandas as pd\n",
    "import cv2\n",
    "from imutils import paths\n",
    "import matplotlib.pyplot as plt"
   ]
  },
  {
   "cell_type": "markdown",
   "metadata": {},
   "source": [
    "Lets start by analyzing the number of images in each class for the training set"
   ]
  },
  {
   "cell_type": "code",
   "execution_count": 17,
   "metadata": {},
   "outputs": [
    {
     "name": "stdout",
     "output_type": "stream",
     "text": [
      "3875\n",
      "1341\n"
     ]
    }
   ],
   "source": [
    "pneumonia_train = list(paths.list_images(\"chest_xray/train/PNEUMONIA/\"))\n",
    "normal_train = list(paths.list_images(\"chest_xray/train/NORMAL/\"))\n",
    "print(len(pneumonia_train))\n",
    "print(len(normal_train))"
   ]
  },
  {
   "cell_type": "markdown",
   "metadata": {},
   "source": [
    "Let's go into each class and randomly display some images to get an idea of how they look. But first lets make a function to do this for us."
   ]
  },
  {
   "cell_type": "code",
   "execution_count": null,
   "metadata": {
    "scrolled": false
   },
   "outputs": [
    {
     "name": "stdout",
     "output_type": "stream",
     "text": [
      "['chest_xray/train/PNEUMONIA/person1214_virus_2059.jpeg', 'chest_xray/train/PNEUMONIA/person113_virus_215.jpeg']\n",
      "['chest_xray/train/NORMAL/NORMAL2-IM-1125-0001.jpeg', 'chest_xray/train/NORMAL/IM-0207-0001.jpeg']\n"
     ]
    }
   ],
   "source": [
    "\n",
    "def read_image_rgb(im_path):\n",
    "    return cv2.cvtColor(\n",
    "        cv2.resize(cv2.imread(im_path), (512, 512)), cv2.COLOR_BGR2RGB\n",
    "    )\n",
    "\n",
    "# define classes\n",
    "classes = [pneumonia_train, normal_train]\n",
    "columns = 2\n",
    "\n",
    "for _class in classes:\n",
    "    random_images = random.sample(_class, columns)\n",
    "    print(random_images)\n",
    "    fig, axes = plt.subplots(nrows=1, ncols=columns, figsize=(13, 11), squeeze=False)\n",
    "    fig.tight_layout()\n",
    "    for l in range(1):\n",
    "        for m in range(columns):\n",
    "            axes[l][m].imshow(read_image_rgb(random_images[m]))\n",
    "            axes[l][m].axis(\"off\")\n",
    "            axes[l][m].set_title(_class)\n",
    "# done displaying"
   ]
  },
  {
   "cell_type": "code",
   "execution_count": 13,
   "metadata": {},
   "outputs": [
    {
     "data": {
      "text/plain": [
       "'chest_xray/train/PNEUMONIA/person478_virus_975.jpeg'"
      ]
     },
     "execution_count": 13,
     "metadata": {},
     "output_type": "execute_result"
    }
   ],
   "source": [
    "pneumonia_train[3]"
   ]
  },
  {
   "cell_type": "code",
   "execution_count": null,
   "metadata": {},
   "outputs": [],
   "source": []
  },
  {
   "cell_type": "code",
   "execution_count": null,
   "metadata": {},
   "outputs": [],
   "source": []
  },
  {
   "cell_type": "code",
   "execution_count": null,
   "metadata": {},
   "outputs": [],
   "source": []
  },
  {
   "cell_type": "code",
   "execution_count": null,
   "metadata": {},
   "outputs": [],
   "source": []
  },
  {
   "cell_type": "code",
   "execution_count": null,
   "metadata": {},
   "outputs": [],
   "source": []
  },
  {
   "cell_type": "code",
   "execution_count": null,
   "metadata": {},
   "outputs": [],
   "source": []
  }
 ],
 "metadata": {
  "kernelspec": {
   "display_name": "Python 3",
   "language": "python",
   "name": "python3"
  },
  "language_info": {
   "codemirror_mode": {
    "name": "ipython",
    "version": 3
   },
   "file_extension": ".py",
   "mimetype": "text/x-python",
   "name": "python",
   "nbconvert_exporter": "python",
   "pygments_lexer": "ipython3",
   "version": "3.6.8"
  }
 },
 "nbformat": 4,
 "nbformat_minor": 2
}
