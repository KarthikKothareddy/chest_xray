{
 "cells": [
  {
   "cell_type": "code",
   "execution_count": null,
   "metadata": {},
   "outputs": [],
   "source": [
    "import os\n",
    "import sys\n",
    "import random\n",
    "import numpy as np\n",
    "import pandas as pd\n",
    "import cv2\n",
    "from imutils import paths\n",
    "import matplotlib.pyplot as plt\n",
    "%matplotlib inline"
   ]
  },
  {
   "cell_type": "markdown",
   "metadata": {},
   "source": [
    "Lets start by analyzing the number of images in each class for the training set"
   ]
  },
  {
   "cell_type": "code",
   "execution_count": null,
   "metadata": {},
   "outputs": [],
   "source": [
    "pneumonia_train = list(paths.list_images(\"chest_xray/train/PNEUMONIA/\"))\n",
    "normal_train = list(paths.list_images(\"chest_xray/train/NORMAL/\"))\n",
    "print(len(pneumonia_train))\n",
    "print(len(normal_train))"
   ]
  },
  {
   "cell_type": "markdown",
   "metadata": {},
   "source": [
    "### 1. Explanatory Analysis\n",
    "Let's go into each class and randomly display some images to get an idea of how they look. But first lets make a function to do this for us."
   ]
  },
  {
   "cell_type": "code",
   "execution_count": null,
   "metadata": {
    "scrolled": false
   },
   "outputs": [],
   "source": [
    "# function to read images\n",
    "def read_image(im_path, rgb=True):\n",
    "    im = cv2.imread(im_path)\n",
    "    if rgb:\n",
    "        return cv2.cvtColor(im, cv2.COLOR_BGR2RGB)\n",
    "    return im\n",
    "\n",
    "# define classes\n",
    "columns = 3\n",
    "classes = {\n",
    "    \"Pneumonia\":[read_image(img) for img in random.sample(pneumonia_train, columns)], \n",
    "    \"Normal\": [read_image(img) for img in random.sample(normal_train, columns)]\n",
    "}\n",
    "# this method displays images for two classes based adjacent to each other\n",
    "def display(classes, columns, read_as_rgb=True):\n",
    "    for _class in classes:\n",
    "        #print(random_images)\n",
    "        fig, axes = plt.subplots(nrows=1, ncols=columns, figsize=(14, 10), squeeze=False)\n",
    "        fig.tight_layout()\n",
    "        for l in range(1):\n",
    "            for m, img in enumerate(classes[_class]):\n",
    "                axes[l][m].imshow(img)\n",
    "                axes[l][m].axis(\"off\")\n",
    "                axes[l][m].set_title(_class)\n",
    "    # done displaying\n",
    "    \n",
    "# display images\n",
    "display(classes, columns)"
   ]
  },
  {
   "cell_type": "markdown",
   "metadata": {},
   "source": [
    "Let us do some preprocessing that will bring up the contrast in the images. The approach is,\n",
    "\n",
    "-> RGB -> HSV -> H, S, V -> H, S, HistogramEqulize(V) -> HSV -> RGB"
   ]
  },
  {
   "cell_type": "code",
   "execution_count": null,
   "metadata": {},
   "outputs": [],
   "source": [
    "def preprocess(image):\n",
    "    # BGR to HSV\n",
    "    img = cv2.cvtColor(image, cv2.COLOR_BGR2HSV)\n",
    "    # split to H,S,V\n",
    "    H, S, V = cv2.split(img)\n",
    "    # histogram equalize\n",
    "    V = cv2.equalizeHist(V)\n",
    "    # join back\n",
    "    img = cv2.merge([H, S, V])\n",
    "    # HSV to RGB\n",
    "    img = cv2.cvtColor(img, cv2.COLOR_HSV2RGB)\n",
    "    \n",
    "    return img"
   ]
  },
  {
   "cell_type": "code",
   "execution_count": null,
   "metadata": {},
   "outputs": [],
   "source": [
    "# get some random positive images\n",
    "sample_positive = random.sample(pneumonia_train, 3)\n",
    "\n",
    "# make a dictionary regular samples and preprocessed ones\n",
    "classes = {\n",
    "    \"Original\": [read_image(img) for img in sample_positive],\n",
    "    \"Preprocessed\": [preprocess(read_image(img, rgb=False)) for img in sample_positive]\n",
    "}\n",
    "\n",
    "# display the images \n",
    "display(classes, 3)"
   ]
  },
  {
   "cell_type": "markdown",
   "metadata": {},
   "source": [
    "### 2. Data Preprocessing and Augumentation\n",
    "\n",
    "In this section we will generate and standardize data to address class imbalance problem"
   ]
  },
  {
   "cell_type": "code",
   "execution_count": 1,
   "metadata": {},
   "outputs": [
    {
     "name": "stderr",
     "output_type": "stream",
     "text": [
      "Using TensorFlow backend.\n"
     ]
    }
   ],
   "source": [
    "from keras.preprocessing.image import ImageDataGenerator\n",
    "from keras.preprocessing.image import img_to_array\n",
    "from keras.preprocessing.image import load_img\n",
    "\n",
    "_generator = ImageDataGenerator(\n",
    "    width_shift_range=0.001,\n",
    "    height_shift_range=0.001,\n",
    "    zoom_range=0.01,\n",
    "    horizontal_flip=True,\n",
    "    rotation_range=0.99\n",
    ")"
   ]
  },
  {
   "cell_type": "code",
   "execution_count": 2,
   "metadata": {},
   "outputs": [],
   "source": [
    "def load_images(directory):\n",
    "    images = [cv2.cvtColor(cv2.imread(os.path.join(directory, file)), cv2.COLOR_BGR2RGB)\n",
    "              for file in os.listdir(directory)]\n",
    "    images = [img_to_array(image, data_format=\"channels_last\") for image in images]\n",
    "    images = np.array(images)\n",
    "    images = images.astype(\"float\")\n",
    "    return images"
   ]
  },
  {
   "cell_type": "code",
   "execution_count": null,
   "metadata": {},
   "outputs": [],
   "source": []
  },
  {
   "cell_type": "code",
   "execution_count": null,
   "metadata": {},
   "outputs": [],
   "source": []
  },
  {
   "cell_type": "code",
   "execution_count": null,
   "metadata": {},
   "outputs": [],
   "source": []
  },
  {
   "cell_type": "code",
   "execution_count": null,
   "metadata": {},
   "outputs": [],
   "source": [
    "if os.path.exists(\"chest_xray/train/NORMAL/.ipynb_checkpoints/\"):\n",
    "    shutil.rmtree(\"chest_xray/train/NORMAL/.ipynb_checkpoints/\")\n",
    "X_aug = _generator.flow(\n",
    "    x=X_np,\n",
    "    y=None,\n",
    "    save_to_dir=\"chest_xray/train/NORMAL/\",\n",
    "    save_format=\"jpeg\",\n",
    "    save_prefix=\"augumented\"\n",
    ")\n",
    "for i in range(int(np.ceil((3500 - X_np.shape[0])/32))):\n",
    "    x = next(X_aug)"
   ]
  },
  {
   "cell_type": "code",
   "execution_count": null,
   "metadata": {},
   "outputs": [],
   "source": []
  },
  {
   "cell_type": "code",
   "execution_count": null,
   "metadata": {},
   "outputs": [],
   "source": []
  },
  {
   "cell_type": "code",
   "execution_count": null,
   "metadata": {},
   "outputs": [],
   "source": []
  },
  {
   "cell_type": "code",
   "execution_count": null,
   "metadata": {},
   "outputs": [],
   "source": []
  },
  {
   "cell_type": "code",
   "execution_count": null,
   "metadata": {},
   "outputs": [],
   "source": []
  }
 ],
 "metadata": {
  "kernelspec": {
   "display_name": "Python 3",
   "language": "python",
   "name": "python3"
  },
  "language_info": {
   "codemirror_mode": {
    "name": "ipython",
    "version": 3
   },
   "file_extension": ".py",
   "mimetype": "text/x-python",
   "name": "python",
   "nbconvert_exporter": "python",
   "pygments_lexer": "ipython3",
   "version": "3.6.8"
  }
 },
 "nbformat": 4,
 "nbformat_minor": 2
}
